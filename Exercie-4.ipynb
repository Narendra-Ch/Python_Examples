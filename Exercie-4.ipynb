{
 "cells": [
  {
   "cell_type": "raw",
   "id": "canadian-building",
   "metadata": {},
   "source": [
    "1.1 Write a Python Program(with class concepts) to find the area of the triangle using the below\n",
    "formula.\n",
    "area = (s*(s-a)*(s-b)*(s-c)) ** 0.5\n",
    "Function to take the length of the sides of triangle from user should be defined in the parent\n",
    "class and function to calculate the area should be defined in subclass."
   ]
  },
  {
   "cell_type": "code",
   "execution_count": 1,
   "id": "consecutive-presence",
   "metadata": {},
   "outputs": [
    {
     "name": "stdout",
     "output_type": "stream",
     "text": [
      "Given sides of triangle are:2,5,4\n",
      "area of triangle is 3.80\n"
     ]
    }
   ],
   "source": [
    "class area:\n",
    "    def __init__(self,a,b,c):\n",
    "        self.a=a\n",
    "        self.b=b\n",
    "        self.c=c\n",
    "        print(\"Given sides of triangle are:{},{},{}\".format(self.a,self.b,self.c))\n",
    "    \n",
    "    def calc(self):\n",
    "        p=(self.a+self.b+self.c)/2\n",
    "        ar=(p*(p-self.a)*(p-self.b)*(p-self.c))**0.5\n",
    "        return ar\n",
    "\n",
    "ob=area(2,5,4)\n",
    "\n",
    "print(\"area of triangle is %0.2f\" %ob.calc())"
   ]
  },
  {
   "cell_type": "code",
   "execution_count": null,
   "id": "second-desert",
   "metadata": {},
   "outputs": [],
   "source": []
  },
  {
   "cell_type": "code",
   "execution_count": null,
   "id": "expressed-planet",
   "metadata": {},
   "outputs": [],
   "source": []
  },
  {
   "cell_type": "raw",
   "id": "still-latitude",
   "metadata": {},
   "source": [
    "1.2 Write a function filter_long_words() that takes a list of words and an integer n and returns\n",
    "the list of words that are longer than n."
   ]
  },
  {
   "cell_type": "code",
   "execution_count": 2,
   "id": "introductory-screening",
   "metadata": {},
   "outputs": [
    {
     "name": "stdout",
     "output_type": "stream",
     "text": [
      "list of words whose length is greater than 5 is ['Data Science', 'jupyter', 'complex']\n"
     ]
    }
   ],
   "source": [
    "def filter_long_words(list1,length):\n",
    "    lis1=list1\n",
    "    n=length\n",
    "    result=[]\n",
    "    for i in lis1:\n",
    "        if(len(i)>n):\n",
    "            result.append(i)\n",
    "    return result\n",
    "\n",
    "list_of_words=['Naren','Data','Data Science','jupyter','complex','resul']\n",
    "n=5\n",
    "print(\"list of words whose length is greater than {} is {}\".format(n,filter_long_words(list_of_words,n)))"
   ]
  },
  {
   "cell_type": "code",
   "execution_count": null,
   "id": "charged-document",
   "metadata": {},
   "outputs": [],
   "source": []
  },
  {
   "cell_type": "code",
   "execution_count": null,
   "id": "above-chain",
   "metadata": {},
   "outputs": [],
   "source": []
  },
  {
   "cell_type": "raw",
   "id": "organic-emphasis",
   "metadata": {},
   "source": [
    "2.1 Write a Python program using function concept that maps list of words into a list of integers\n",
    "representing the lengths of the corresponding words.\n",
    "Hint: If a list [ ab,cde,erty] is passed on to the python function output should come as [2,3,4]\n",
    "Here 2,3 and 4 are the lengths of the words in the list."
   ]
  },
  {
   "cell_type": "code",
   "execution_count": 3,
   "id": "integral-sitting",
   "metadata": {},
   "outputs": [
    {
     "name": "stdout",
     "output_type": "stream",
     "text": [
      "Length of each word in list is: [6, 9, 7]\n"
     ]
    }
   ],
   "source": [
    "def length_of_words(list1):\n",
    "    list1=list1\n",
    "    result=[]\n",
    "    for i in list1:\n",
    "        result.append(len(i))\n",
    "    return result\n",
    "\n",
    "ab=['Python','Data data','machine']\n",
    "\n",
    "print(\"Length of each word in list is:\",length_of_words(ab))"
   ]
  },
  {
   "cell_type": "code",
   "execution_count": null,
   "id": "stuffed-probability",
   "metadata": {},
   "outputs": [],
   "source": []
  },
  {
   "cell_type": "code",
   "execution_count": null,
   "id": "revolutionary-drill",
   "metadata": {},
   "outputs": [],
   "source": []
  },
  {
   "cell_type": "raw",
   "id": "antique-shore",
   "metadata": {},
   "source": [
    "2.2 Write a Python function which takes a character (i.e. a string of length 1) and returns True if\n",
    "it is a vowel, False otherwise."
   ]
  },
  {
   "cell_type": "code",
   "execution_count": 4,
   "id": "proper-islam",
   "metadata": {},
   "outputs": [
    {
     "name": "stdout",
     "output_type": "stream",
     "text": [
      "Vowel, non vowels in list are:\n",
      "N   False\n",
      "a   True\n",
      "r   False\n",
      "e   True\n",
      "n   False\n",
      "d   False\n",
      "r   False\n",
      "a   True\n"
     ]
    }
   ],
   "source": [
    "import pandas as pd\n",
    "def voworcon(char):\n",
    "    char=char\n",
    "    vow=['a','e','i','o','u']\n",
    "    return (True if char in vow else False)\n",
    "lis='Narendra'\n",
    "print(\"Vowel, non vowels in list are:\",)\n",
    "for i in lis:\n",
    "    print(i,\" \",voworcon(i))\n"
   ]
  },
  {
   "cell_type": "code",
   "execution_count": null,
   "id": "growing-surgery",
   "metadata": {},
   "outputs": [],
   "source": []
  },
  {
   "cell_type": "code",
   "execution_count": null,
   "id": "australian-liverpool",
   "metadata": {},
   "outputs": [],
   "source": []
  },
  {
   "cell_type": "code",
   "execution_count": null,
   "id": "useful-change",
   "metadata": {},
   "outputs": [],
   "source": []
  },
  {
   "cell_type": "code",
   "execution_count": null,
   "id": "defined-toolbox",
   "metadata": {},
   "outputs": [],
   "source": []
  },
  {
   "cell_type": "code",
   "execution_count": null,
   "id": "rental-irrigation",
   "metadata": {},
   "outputs": [],
   "source": []
  },
  {
   "cell_type": "code",
   "execution_count": null,
   "id": "handed-vienna",
   "metadata": {},
   "outputs": [],
   "source": []
  },
  {
   "cell_type": "code",
   "execution_count": null,
   "id": "graphic-coaching",
   "metadata": {},
   "outputs": [],
   "source": []
  },
  {
   "cell_type": "code",
   "execution_count": null,
   "id": "julian-partnership",
   "metadata": {},
   "outputs": [],
   "source": []
  },
  {
   "cell_type": "code",
   "execution_count": null,
   "id": "double-armenia",
   "metadata": {},
   "outputs": [],
   "source": []
  },
  {
   "cell_type": "code",
   "execution_count": null,
   "id": "overhead-begin",
   "metadata": {},
   "outputs": [],
   "source": []
  }
 ],
 "metadata": {
  "kernelspec": {
   "display_name": "Python 3",
   "language": "python",
   "name": "python3"
  },
  "language_info": {
   "codemirror_mode": {
    "name": "ipython",
    "version": 3
   },
   "file_extension": ".py",
   "mimetype": "text/x-python",
   "name": "python",
   "nbconvert_exporter": "python",
   "pygments_lexer": "ipython3",
   "version": "3.7.9"
  }
 },
 "nbformat": 4,
 "nbformat_minor": 5
}
