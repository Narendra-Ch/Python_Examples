{
 "cells": [
  {
   "cell_type": "markdown",
   "id": "preliminary-garbage",
   "metadata": {},
   "source": [
    "#### 1.1 Write a Python Program to implement your own myreduce() function which works exactly like Python's built-in function reduce()"
   ]
  },
  {
   "cell_type": "code",
   "execution_count": 1,
   "id": "weekly-metabolism",
   "metadata": {},
   "outputs": [],
   "source": [
    "def myreduce(fun,lis):\n",
    "    \n",
    "    result=lis[0] # get the first element\n",
    "    \n",
    "    for i in lis[1:]: \n",
    "    \n",
    "        result=fun(result,i)\n",
    "    \n",
    "    return result"
   ]
  },
  {
   "cell_type": "code",
   "execution_count": 2,
   "id": "genuine-outdoors",
   "metadata": {},
   "outputs": [
    {
     "name": "stdout",
     "output_type": "stream",
     "text": [
      "Sum of numbers is in list:  74\n"
     ]
    }
   ],
   "source": [
    "#example to find sum of numbers in given list\n",
    "fun=lambda x,y:x+y\n",
    "\n",
    "lis=[1,2,2,4,5,60]\n",
    "\n",
    "print(\"Sum of numbers is in list: \",myreduce(fun,lis))"
   ]
  },
  {
   "cell_type": "markdown",
   "id": "sixth-florence",
   "metadata": {},
   "source": [
    "#### 1.2 Write a Python program to implement your own myfilter() function which works exactly like Python's built-in function filter()"
   ]
  },
  {
   "cell_type": "code",
   "execution_count": 3,
   "id": "sweet-mechanics",
   "metadata": {},
   "outputs": [
    {
     "name": "stdout",
     "output_type": "stream",
     "text": [
      "odd number and multiple of 5 in given list are:  [5, 55]\n"
     ]
    }
   ],
   "source": [
    "#find odd numbers and multiples of 5 in list\n",
    "\n",
    "\n",
    "def myfilter(seq):\n",
    "    \n",
    "    result=[]\n",
    "    \n",
    "    for i in seq:\n",
    "        if (i%5==0):\n",
    "            if(i%2!=0):\n",
    "                result.append(i)\n",
    "    return result\n",
    "        \n",
    "seq=[1,3,5,4,55,87,91,150,180] \n",
    "\n",
    "print(\"odd number and multiple of 5 in given list are: \",myfilter(seq))\n",
    "                "
   ]
  },
  {
   "cell_type": "markdown",
   "id": "covered-porcelain",
   "metadata": {},
   "source": [
    "#### 2. Implement List comprehensions to produce the following lists."
   ]
  },
  {
   "cell_type": "code",
   "execution_count": 4,
   "id": "composed-fancy",
   "metadata": {},
   "outputs": [
    {
     "data": {
      "text/plain": [
       "['x', 'xx', 'xxx', 'xxxx', 'y', 'yy', 'yyy', 'yyyy', 'z', 'zz', 'zzz', 'zzzz']"
      ]
     },
     "execution_count": 4,
     "metadata": {},
     "output_type": "execute_result"
    }
   ],
   "source": [
    "#['x', 'xx', 'xxx', 'xxxx', 'y', 'yy', 'yyy', 'yyyy', 'z', 'zz', 'zzz', 'zzzz']\n",
    "\n",
    "letters=list('xyz')\n",
    "\n",
    "pattern=[i*j for i in (letters) for j in range(1,5)]\n",
    "\n",
    "pattern"
   ]
  },
  {
   "cell_type": "code",
   "execution_count": 5,
   "id": "fluid-checkout",
   "metadata": {},
   "outputs": [
    {
     "data": {
      "text/plain": [
       "['x', 'y', 'z', 'xx', 'yy', 'zz', 'xxx', 'yyy', 'zzz', 'xxxx', 'yyyy', 'zzzz']"
      ]
     },
     "execution_count": 5,
     "metadata": {},
     "output_type": "execute_result"
    }
   ],
   "source": [
    "# ['x', 'y', 'z', 'xx', 'yy', 'zz', 'xxx', 'yyy', 'zzz', 'xxxx', 'yyyy', 'zzzz']\n",
    "\n",
    "letters=list('xyz')\n",
    "\n",
    "pattern=[i*j for i in range(1,5) for j in letters]\n",
    "\n",
    "pattern"
   ]
  },
  {
   "cell_type": "code",
   "execution_count": 6,
   "id": "african-multimedia",
   "metadata": {},
   "outputs": [
    {
     "data": {
      "text/plain": [
       "[[2], [3], [4], [3], [4], [5], [4], [5], [6]]"
      ]
     },
     "execution_count": 6,
     "metadata": {},
     "output_type": "execute_result"
    }
   ],
   "source": [
    "#[[2], [3], [4], [3], [4], [5], [4], [5], [6]] \n",
    "\n",
    "seq=[2,3,4]\n",
    "\n",
    "result=[[i+j] for i in seq for j in range (0,3)]\n",
    "result"
   ]
  },
  {
   "cell_type": "code",
   "execution_count": 7,
   "id": "crucial-arrangement",
   "metadata": {},
   "outputs": [
    {
     "data": {
      "text/plain": [
       "[[2, 3, 4, 5], [3, 4, 5, 6], [4, 5, 6, 7], [5, 6, 7, 8]]"
      ]
     },
     "execution_count": 7,
     "metadata": {},
     "output_type": "execute_result"
    }
   ],
   "source": [
    "#[[2, 3, 4, 5], [3, 4, 5, 6],[4, 5, 6, 7], [5, 6, 7, 8]]\n",
    "\n",
    "seq=[2,3,4,5]\n",
    "\n",
    "result=[[i+j for i in range(0,4)] for j in seq]\n",
    "result"
   ]
  },
  {
   "cell_type": "code",
   "execution_count": 8,
   "id": "graphic-creativity",
   "metadata": {},
   "outputs": [
    {
     "data": {
      "text/plain": [
       "[(1, 1), (2, 1), (3, 1), (1, 2), (2, 2), (3, 2), (1, 3), (2, 3), (3, 3)]"
      ]
     },
     "execution_count": 8,
     "metadata": {},
     "output_type": "execute_result"
    }
   ],
   "source": [
    "#[(1, 1), (2, 1), (3, 1), (1, 2), (2, 2), (3, 2), (1, 3), (2, 3), (3, 3)]\n",
    "seq=[1,2,3]\n",
    "\n",
    "result=[(j,i) for i in seq for j in seq]\n",
    "result"
   ]
  },
  {
   "cell_type": "code",
   "execution_count": null,
   "id": "dependent-actress",
   "metadata": {},
   "outputs": [],
   "source": []
  }
 ],
 "metadata": {
  "kernelspec": {
   "display_name": "Python 3",
   "language": "python",
   "name": "python3"
  },
  "language_info": {
   "codemirror_mode": {
    "name": "ipython",
    "version": 3
   },
   "file_extension": ".py",
   "mimetype": "text/x-python",
   "name": "python",
   "nbconvert_exporter": "python",
   "pygments_lexer": "ipython3",
   "version": "3.7.9"
  }
 },
 "nbformat": 4,
 "nbformat_minor": 5
}
