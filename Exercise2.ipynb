{
 "cells": [
  {
   "cell_type": "raw",
   "id": "internal-webster",
   "metadata": {},
   "source": [
    "##### 1. Create the below pattern using nested for loop in Python.\n",
    "*\n",
    "* *\n",
    "* * *\n",
    "* * * *\n",
    "* * * * *\n",
    "* * * *\n",
    "* * *\n",
    "* *\n",
    "*"
   ]
  },
  {
   "cell_type": "code",
   "execution_count": 1,
   "id": "indian-sarah",
   "metadata": {},
   "outputs": [
    {
     "name": "stdout",
     "output_type": "stream",
     "text": [
      "Enter no. of rows you like to print:5\n",
      "* \n",
      "* * \n",
      "* * * \n",
      "* * * * \n",
      "* * * * * \n",
      "* * * * \n",
      "* * * \n",
      "* * \n",
      "* \n",
      "\n"
     ]
    }
   ],
   "source": [
    "n_rows=int(input(\"Enter no. of rows you like to print:\"))\n",
    "\n",
    "for i in range(0,n_rows):#for no.of rows\n",
    "    for j in range(0,i+1): #loop for no.of columns\n",
    "        print(\"*\",end=' ')\n",
    "    print( )\n",
    "\n",
    "for i in range(n_rows,0,-1):\n",
    "    for j in range(0,i-1):\n",
    "        print(\"*\",end=' ')\n",
    "    print( )\n",
    "        "
   ]
  },
  {
   "cell_type": "raw",
   "id": "smart-pride",
   "metadata": {},
   "source": [
    "2. Write a Python program to reverse a word after accepting the input from the user"
   ]
  },
  {
   "cell_type": "code",
   "execution_count": 2,
   "id": "apart-million",
   "metadata": {},
   "outputs": [
    {
     "name": "stdout",
     "output_type": "stream",
     "text": [
      "Enter your name:narendra\n",
      "Reverse string is ardneran\n"
     ]
    }
   ],
   "source": [
    "name=input(\"Enter your name:\")\n",
    "print(\"Reverse string is {}\".format(name[::-1]))"
   ]
  },
  {
   "cell_type": "code",
   "execution_count": null,
   "id": "equal-royalty",
   "metadata": {},
   "outputs": [],
   "source": []
  }
 ],
 "metadata": {
  "kernelspec": {
   "display_name": "Python 3",
   "language": "python",
   "name": "python3"
  },
  "language_info": {
   "codemirror_mode": {
    "name": "ipython",
    "version": 3
   },
   "file_extension": ".py",
   "mimetype": "text/x-python",
   "name": "python",
   "nbconvert_exporter": "python",
   "pygments_lexer": "ipython3",
   "version": "3.7.9"
  }
 },
 "nbformat": 4,
 "nbformat_minor": 5
}
