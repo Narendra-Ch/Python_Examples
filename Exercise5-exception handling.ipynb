{
 "cells": [
  {
   "cell_type": "raw",
   "id": "coral-still",
   "metadata": {},
   "source": [
    "1. Write a function to compute 5/0 and use try/except to catch the exceptions."
   ]
  },
  {
   "cell_type": "code",
   "execution_count": 1,
   "id": "twelve-experiment",
   "metadata": {},
   "outputs": [
    {
     "name": "stdout",
     "output_type": "stream",
     "text": [
      "Enter first integer::4\n",
      "Enter second integer::0\n",
      "Zero division is not possible\n"
     ]
    }
   ],
   "source": [
    "try:\n",
    "    a=int(input(\"Enter first integer::\"))\n",
    "    b=int(input(\"Enter second integer::\"))\n",
    "    print(\"divison:\",a/b)\n",
    "except ZeroDivisionError:\n",
    "    print(\"Zero division is not possible\")\n",
    "except ValueError:\n",
    "    print(\"Only integer type allowed\")\n",
    "\n",
    "else:\n",
    "    print(\"divison succesful\")\n"
   ]
  },
  {
   "cell_type": "code",
   "execution_count": null,
   "id": "therapeutic-consequence",
   "metadata": {},
   "outputs": [],
   "source": []
  },
  {
   "cell_type": "raw",
   "id": "other-cycle",
   "metadata": {},
   "source": [
    "2. Implement a Python program to generate all sentences where subject is in\n",
    "[\"Americans\", \"Indians\"] and verb is in [\"Play\", \"watch\"] and the object is in\n",
    "[\"Baseball\",\"cricket\"].\n",
    "Hint: Subject,Verb and Object should be declared in the program as shown below.\n",
    "subjects=[\"Americans \",\"Indians\"]\n",
    "verbs=[\"play\",\"watch\"]\n",
    "objects=[\"Baseball\",\"Cricket\"]"
   ]
  },
  {
   "cell_type": "code",
   "execution_count": 2,
   "id": "outdoor-monaco",
   "metadata": {},
   "outputs": [
    {
     "name": "stdout",
     "output_type": "stream",
     "text": [
      "Americans Play Baseball\n",
      "Americans Play cricket\n",
      "Americans watch Baseball\n",
      "Americans watch cricket\n",
      "Indians Play Baseball\n",
      "Indians Play cricket\n",
      "Indians watch Baseball\n",
      "Indians watch cricket\n"
     ]
    }
   ],
   "source": [
    "lis1=[\"Americans\", \"Indians\"]\n",
    "lis2=[\"Play\", \"watch\"]\n",
    "lis3=[\"Baseball\",\"cricket\"]\n",
    "\n",
    "result=[ (\"{} {} {}\".format(i,j,k))for i in lis1 for j in lis2 for k in lis3]\n",
    "for i in result:\n",
    "    print(i)"
   ]
  },
  {
   "cell_type": "code",
   "execution_count": null,
   "id": "large-citizenship",
   "metadata": {},
   "outputs": [],
   "source": []
  }
 ],
 "metadata": {
  "kernelspec": {
   "display_name": "Python 3",
   "language": "python",
   "name": "python3"
  },
  "language_info": {
   "codemirror_mode": {
    "name": "ipython",
    "version": 3
   },
   "file_extension": ".py",
   "mimetype": "text/x-python",
   "name": "python",
   "nbconvert_exporter": "python",
   "pygments_lexer": "ipython3",
   "version": "3.7.9"
  }
 },
 "nbformat": 4,
 "nbformat_minor": 5
}
